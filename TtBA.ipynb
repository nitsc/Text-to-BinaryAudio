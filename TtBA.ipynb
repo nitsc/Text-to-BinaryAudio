import numpy as np
from scipy.io.wavfile import write

def text_to_binary(text):
    """将文本转换为二进制字符串"""
    binary_string = ''.join(format(ord(char), '08b') for char in text)
    return binary_string

def binary_to_audio(binary_string, sample_rate=44100, bit_rate=10):
    """将二进制字符串转换为音频信号"""
    duration_per_bit = 1.0 / bit_rate
    samples_per_bit = int(sample_rate * duration_per_bit)
    freq_0 = 440  # 频率为440Hz的音符（代表'0'）
    freq_1 = 880  # 频率为880Hz的音符（代表'1'）

    audio_signal = np.array([])
    for bit in binary_string:
        if bit == '0':
            t = np.linspace(0, duration_per_bit, samples_per_bit, endpoint=False)
            wave = np.sin(2 * np.pi * freq_0 * t)
        else:
            t = np.linspace(0, duration_per_bit, samples_per_bit, endpoint=False)
            wave = np.sin(2 * np.pi * freq_1 * t)
        audio_signal = np.concatenate((audio_signal, wave))

    # 归一化到[-1, 1]
    audio_signal = audio_signal / np.max(np.abs(audio_signal))
    return audio_signal

def save_audio(filename, audio_signal, sample_rate=44100):
    """保存音频信号为WAV文件"""
    write(filename, sample_rate, audio_signal.astype(np.float32))

# 运行时输入需要转换的文字
text = input("请输入需要转换的文字：")

binary_string = text_to_binary(text)
audio_signal = binary_to_audio(binary_string)
output_path = f'{text}_audio.wav'
save_audio(output_path, audio_signal)

print(f"Audio file generated as '{output_path}'")

# 下载生成的音频文件
from google.colab import files
files.download(output_path)
