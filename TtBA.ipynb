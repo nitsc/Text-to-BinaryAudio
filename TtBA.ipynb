{
  "cells": [
    {
      "cell_type": "code",
      "execution_count": null,
      "metadata": {
        "colab": {
          "base_uri": "https://localhost:8080/",
          "height": 52
        },
        "id": "1yWSlLguArcx",
        "outputId": "6e0c6a7b-b92d-44ed-dc26-d5845b2c89ba"
      },
      "outputs": [],
      "source": [
        "import numpy as np\n",
        "from scipy.io.wavfile import write\n",
        "\n",
        "def text_to_binary(text):\n",
        "    \"\"\"将文本转换为二进制字符串\"\"\"\n",
        "    binary_string = ''.join(format(ord(char), '08b') for char in text)\n",
        "    return binary_string\n",
        "\n",
        "def binary_to_audio(binary_string, sample_rate=44100, bit_rate=10):\n",
        "    \"\"\"将二进制字符串转换为音频信号\"\"\"\n",
        "    duration_per_bit = 1.0 / bit_rate\n",
        "    samples_per_bit = int(sample_rate * duration_per_bit)\n",
        "    freq_0 = 440  # 频率为440Hz的音符（代表'0'）\n",
        "    freq_1 = 880  # 频率为880Hz的音符（代表'1'）\n",
        "\n",
        "    audio_signal = np.array([])\n",
        "    for bit in binary_string:\n",
        "        if bit == '0':\n",
        "            t = np.linspace(0, duration_per_bit, samples_per_bit, endpoint=False)\n",
        "            wave = np.sin(2 * np.pi * freq_0 * t)\n",
        "        else:\n",
        "            t = np.linspace(0, duration_per_bit, samples_per_bit, endpoint=False)\n",
        "            wave = np.sin(2 * np.pi * freq_1 * t)\n",
        "        audio_signal = np.concatenate((audio_signal, wave))\n",
        "\n",
        "    # 归一化到[-1, 1]\n",
        "    audio_signal = audio_signal / np.max(np.abs(audio_signal))\n",
        "    return audio_signal\n",
        "\n",
        "def save_audio(filename, audio_signal, sample_rate=44100):\n",
        "    \"\"\"保存音频信号为WAV文件\"\"\"\n",
        "    write(filename, sample_rate, audio_signal.astype(np.float32))\n",
        "\n",
        "# 运行时输入需要转换的文字\n",
        "text = input(\"请输入需要转换的文字：\")\n",
        "\n",
        "binary_string = text_to_binary(text)\n",
        "audio_signal = binary_to_audio(binary_string)\n",
        "output_path = f'{text}_audio.wav'\n",
        "save_audio(output_path, audio_signal)\n",
        "\n",
        "print(f\"Audio file generated as '{output_path}'\")\n",
        "\n",
        "# 下载生成的音频文件\n",
        "from google.colab import files\n",
        "files.download(output_path)\n"
      ]
    }
  ],
  "metadata": {
    "colab": {
      "provenance": []
    },
    "kernelspec": {
      "display_name": "Python 3",
      "name": "python3"
    },
    "language_info": {
      "name": "python"
    }
  },
  "nbformat": 4,
  "nbformat_minor": 0
}
